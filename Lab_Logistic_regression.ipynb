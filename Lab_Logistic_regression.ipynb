{
 "cells": [
  {
   "cell_type": "code",
   "execution_count": 1,
   "metadata": {},
   "outputs": [],
   "source": [
    "import sys"
   ]
  },
  {
   "cell_type": "code",
   "execution_count": 2,
   "metadata": {},
   "outputs": [],
   "source": [
    "import os \n",
    "import seaborn as sns\n",
    "import pandas as pd\n",
    "import matplotlib.pyplot as plt\n",
    "import numpy as np\n",
    "from colorsetup import colors, palette\n",
    "sns.set_palette(palette)"
   ]
  },
  {
   "cell_type": "code",
   "execution_count": 3,
   "metadata": {},
   "outputs": [],
   "source": [
    "data = pd.read_csv(r'Human_Activity_Recognition_Using_Smartphones_Data.csv')"
   ]
  },
  {
   "cell_type": "code",
   "execution_count": 4,
   "metadata": {},
   "outputs": [],
   "source": [
    "data_orig = data.copy()"
   ]
  },
  {
   "cell_type": "code",
   "execution_count": 5,
   "metadata": {},
   "outputs": [
    {
     "data": {
      "text/plain": [
       "(10299, 562)"
      ]
     },
     "execution_count": 5,
     "metadata": {},
     "output_type": "execute_result"
    }
   ],
   "source": [
    "data.shape"
   ]
  },
  {
   "cell_type": "code",
   "execution_count": 6,
   "metadata": {},
   "outputs": [
    {
     "data": {
      "text/plain": [
       "float64    561\n",
       "object       1\n",
       "dtype: int64"
      ]
     },
     "execution_count": 6,
     "metadata": {},
     "output_type": "execute_result"
    }
   ],
   "source": [
    "data.dtypes.value_counts()"
   ]
  },
  {
   "cell_type": "code",
   "execution_count": 7,
   "metadata": {},
   "outputs": [
    {
     "data": {
      "text/html": [
       "<div>\n",
       "<style scoped>\n",
       "    .dataframe tbody tr th:only-of-type {\n",
       "        vertical-align: middle;\n",
       "    }\n",
       "\n",
       "    .dataframe tbody tr th {\n",
       "        vertical-align: top;\n",
       "    }\n",
       "\n",
       "    .dataframe thead th {\n",
       "        text-align: right;\n",
       "    }\n",
       "</style>\n",
       "<table border=\"1\" class=\"dataframe\">\n",
       "  <thead>\n",
       "    <tr style=\"text-align: right;\">\n",
       "      <th></th>\n",
       "      <th>tBodyAcc-mean()-X</th>\n",
       "      <th>tBodyAcc-mean()-Y</th>\n",
       "      <th>tBodyAcc-mean()-Z</th>\n",
       "      <th>tBodyAcc-std()-X</th>\n",
       "      <th>tBodyAcc-std()-Y</th>\n",
       "      <th>tBodyAcc-std()-Z</th>\n",
       "      <th>tBodyAcc-mad()-X</th>\n",
       "      <th>tBodyAcc-mad()-Y</th>\n",
       "      <th>tBodyAcc-mad()-Z</th>\n",
       "      <th>tBodyAcc-max()-X</th>\n",
       "      <th>...</th>\n",
       "      <th>fBodyBodyGyroJerkMag-meanFreq()</th>\n",
       "      <th>fBodyBodyGyroJerkMag-skewness()</th>\n",
       "      <th>fBodyBodyGyroJerkMag-kurtosis()</th>\n",
       "      <th>angle(tBodyAccMean,gravity)</th>\n",
       "      <th>angle(tBodyAccJerkMean),gravityMean)</th>\n",
       "      <th>angle(tBodyGyroMean,gravityMean)</th>\n",
       "      <th>angle(tBodyGyroJerkMean,gravityMean)</th>\n",
       "      <th>angle(X,gravityMean)</th>\n",
       "      <th>angle(Y,gravityMean)</th>\n",
       "      <th>angle(Z,gravityMean)</th>\n",
       "    </tr>\n",
       "  </thead>\n",
       "  <tbody>\n",
       "    <tr>\n",
       "      <th>count</th>\n",
       "      <td>10299.000000</td>\n",
       "      <td>10299.000000</td>\n",
       "      <td>10299.000000</td>\n",
       "      <td>10299.000000</td>\n",
       "      <td>10299.000000</td>\n",
       "      <td>10299.000000</td>\n",
       "      <td>10299.000000</td>\n",
       "      <td>10299.000000</td>\n",
       "      <td>10299.000000</td>\n",
       "      <td>10299.000000</td>\n",
       "      <td>...</td>\n",
       "      <td>10299.000000</td>\n",
       "      <td>10299.000000</td>\n",
       "      <td>10299.000000</td>\n",
       "      <td>10299.000000</td>\n",
       "      <td>10299.000000</td>\n",
       "      <td>10299.000000</td>\n",
       "      <td>10299.000000</td>\n",
       "      <td>10299.000000</td>\n",
       "      <td>10299.000000</td>\n",
       "      <td>10299.000000</td>\n",
       "    </tr>\n",
       "    <tr>\n",
       "      <th>mean</th>\n",
       "      <td>0.274347</td>\n",
       "      <td>-0.017743</td>\n",
       "      <td>-0.108925</td>\n",
       "      <td>-0.607784</td>\n",
       "      <td>-0.510191</td>\n",
       "      <td>-0.613064</td>\n",
       "      <td>-0.633593</td>\n",
       "      <td>-0.525697</td>\n",
       "      <td>-0.614989</td>\n",
       "      <td>-0.466732</td>\n",
       "      <td>...</td>\n",
       "      <td>0.126708</td>\n",
       "      <td>-0.298592</td>\n",
       "      <td>-0.617700</td>\n",
       "      <td>0.007705</td>\n",
       "      <td>0.002648</td>\n",
       "      <td>0.017683</td>\n",
       "      <td>-0.009219</td>\n",
       "      <td>-0.496522</td>\n",
       "      <td>0.063255</td>\n",
       "      <td>-0.054284</td>\n",
       "    </tr>\n",
       "    <tr>\n",
       "      <th>std</th>\n",
       "      <td>0.067628</td>\n",
       "      <td>0.037128</td>\n",
       "      <td>0.053033</td>\n",
       "      <td>0.438694</td>\n",
       "      <td>0.500240</td>\n",
       "      <td>0.403657</td>\n",
       "      <td>0.413333</td>\n",
       "      <td>0.484201</td>\n",
       "      <td>0.399034</td>\n",
       "      <td>0.538707</td>\n",
       "      <td>...</td>\n",
       "      <td>0.245443</td>\n",
       "      <td>0.320199</td>\n",
       "      <td>0.308796</td>\n",
       "      <td>0.336591</td>\n",
       "      <td>0.447364</td>\n",
       "      <td>0.616188</td>\n",
       "      <td>0.484770</td>\n",
       "      <td>0.511158</td>\n",
       "      <td>0.305468</td>\n",
       "      <td>0.268898</td>\n",
       "    </tr>\n",
       "    <tr>\n",
       "      <th>min</th>\n",
       "      <td>-1.000000</td>\n",
       "      <td>-1.000000</td>\n",
       "      <td>-1.000000</td>\n",
       "      <td>-1.000000</td>\n",
       "      <td>-1.000000</td>\n",
       "      <td>-1.000000</td>\n",
       "      <td>-1.000000</td>\n",
       "      <td>-1.000000</td>\n",
       "      <td>-1.000000</td>\n",
       "      <td>-1.000000</td>\n",
       "      <td>...</td>\n",
       "      <td>-1.000000</td>\n",
       "      <td>-1.000000</td>\n",
       "      <td>-1.000000</td>\n",
       "      <td>-1.000000</td>\n",
       "      <td>-1.000000</td>\n",
       "      <td>-1.000000</td>\n",
       "      <td>-1.000000</td>\n",
       "      <td>-1.000000</td>\n",
       "      <td>-1.000000</td>\n",
       "      <td>-1.000000</td>\n",
       "    </tr>\n",
       "    <tr>\n",
       "      <th>25%</th>\n",
       "      <td>0.262625</td>\n",
       "      <td>-0.024902</td>\n",
       "      <td>-0.121019</td>\n",
       "      <td>-0.992360</td>\n",
       "      <td>-0.976990</td>\n",
       "      <td>-0.979137</td>\n",
       "      <td>-0.993293</td>\n",
       "      <td>-0.977017</td>\n",
       "      <td>-0.979064</td>\n",
       "      <td>-0.935788</td>\n",
       "      <td>...</td>\n",
       "      <td>-0.019481</td>\n",
       "      <td>-0.536174</td>\n",
       "      <td>-0.841847</td>\n",
       "      <td>-0.124694</td>\n",
       "      <td>-0.287031</td>\n",
       "      <td>-0.493108</td>\n",
       "      <td>-0.389041</td>\n",
       "      <td>-0.817288</td>\n",
       "      <td>0.002151</td>\n",
       "      <td>-0.131880</td>\n",
       "    </tr>\n",
       "    <tr>\n",
       "      <th>50%</th>\n",
       "      <td>0.277174</td>\n",
       "      <td>-0.017162</td>\n",
       "      <td>-0.108596</td>\n",
       "      <td>-0.943030</td>\n",
       "      <td>-0.835032</td>\n",
       "      <td>-0.850773</td>\n",
       "      <td>-0.948244</td>\n",
       "      <td>-0.843670</td>\n",
       "      <td>-0.845068</td>\n",
       "      <td>-0.874825</td>\n",
       "      <td>...</td>\n",
       "      <td>0.136245</td>\n",
       "      <td>-0.335160</td>\n",
       "      <td>-0.703402</td>\n",
       "      <td>0.008146</td>\n",
       "      <td>0.007668</td>\n",
       "      <td>0.017192</td>\n",
       "      <td>-0.007186</td>\n",
       "      <td>-0.715631</td>\n",
       "      <td>0.182028</td>\n",
       "      <td>-0.003882</td>\n",
       "    </tr>\n",
       "    <tr>\n",
       "      <th>75%</th>\n",
       "      <td>0.288354</td>\n",
       "      <td>-0.010625</td>\n",
       "      <td>-0.097589</td>\n",
       "      <td>-0.250293</td>\n",
       "      <td>-0.057336</td>\n",
       "      <td>-0.278737</td>\n",
       "      <td>-0.302033</td>\n",
       "      <td>-0.087405</td>\n",
       "      <td>-0.288149</td>\n",
       "      <td>-0.014641</td>\n",
       "      <td>...</td>\n",
       "      <td>0.288960</td>\n",
       "      <td>-0.113167</td>\n",
       "      <td>-0.487981</td>\n",
       "      <td>0.149005</td>\n",
       "      <td>0.291490</td>\n",
       "      <td>0.536137</td>\n",
       "      <td>0.365996</td>\n",
       "      <td>-0.521503</td>\n",
       "      <td>0.250790</td>\n",
       "      <td>0.102970</td>\n",
       "    </tr>\n",
       "    <tr>\n",
       "      <th>max</th>\n",
       "      <td>1.000000</td>\n",
       "      <td>1.000000</td>\n",
       "      <td>1.000000</td>\n",
       "      <td>1.000000</td>\n",
       "      <td>1.000000</td>\n",
       "      <td>1.000000</td>\n",
       "      <td>1.000000</td>\n",
       "      <td>1.000000</td>\n",
       "      <td>1.000000</td>\n",
       "      <td>1.000000</td>\n",
       "      <td>...</td>\n",
       "      <td>1.000000</td>\n",
       "      <td>1.000000</td>\n",
       "      <td>1.000000</td>\n",
       "      <td>1.000000</td>\n",
       "      <td>1.000000</td>\n",
       "      <td>1.000000</td>\n",
       "      <td>1.000000</td>\n",
       "      <td>1.000000</td>\n",
       "      <td>1.000000</td>\n",
       "      <td>1.000000</td>\n",
       "    </tr>\n",
       "  </tbody>\n",
       "</table>\n",
       "<p>8 rows × 561 columns</p>\n",
       "</div>"
      ],
      "text/plain": [
       "       tBodyAcc-mean()-X  tBodyAcc-mean()-Y  tBodyAcc-mean()-Z  \\\n",
       "count       10299.000000       10299.000000       10299.000000   \n",
       "mean            0.274347          -0.017743          -0.108925   \n",
       "std             0.067628           0.037128           0.053033   \n",
       "min            -1.000000          -1.000000          -1.000000   \n",
       "25%             0.262625          -0.024902          -0.121019   \n",
       "50%             0.277174          -0.017162          -0.108596   \n",
       "75%             0.288354          -0.010625          -0.097589   \n",
       "max             1.000000           1.000000           1.000000   \n",
       "\n",
       "       tBodyAcc-std()-X  tBodyAcc-std()-Y  tBodyAcc-std()-Z  tBodyAcc-mad()-X  \\\n",
       "count      10299.000000      10299.000000      10299.000000      10299.000000   \n",
       "mean          -0.607784         -0.510191         -0.613064         -0.633593   \n",
       "std            0.438694          0.500240          0.403657          0.413333   \n",
       "min           -1.000000         -1.000000         -1.000000         -1.000000   \n",
       "25%           -0.992360         -0.976990         -0.979137         -0.993293   \n",
       "50%           -0.943030         -0.835032         -0.850773         -0.948244   \n",
       "75%           -0.250293         -0.057336         -0.278737         -0.302033   \n",
       "max            1.000000          1.000000          1.000000          1.000000   \n",
       "\n",
       "       tBodyAcc-mad()-Y  tBodyAcc-mad()-Z  tBodyAcc-max()-X  ...  \\\n",
       "count      10299.000000      10299.000000      10299.000000  ...   \n",
       "mean          -0.525697         -0.614989         -0.466732  ...   \n",
       "std            0.484201          0.399034          0.538707  ...   \n",
       "min           -1.000000         -1.000000         -1.000000  ...   \n",
       "25%           -0.977017         -0.979064         -0.935788  ...   \n",
       "50%           -0.843670         -0.845068         -0.874825  ...   \n",
       "75%           -0.087405         -0.288149         -0.014641  ...   \n",
       "max            1.000000          1.000000          1.000000  ...   \n",
       "\n",
       "       fBodyBodyGyroJerkMag-meanFreq()  fBodyBodyGyroJerkMag-skewness()  \\\n",
       "count                     10299.000000                     10299.000000   \n",
       "mean                          0.126708                        -0.298592   \n",
       "std                           0.245443                         0.320199   \n",
       "min                          -1.000000                        -1.000000   \n",
       "25%                          -0.019481                        -0.536174   \n",
       "50%                           0.136245                        -0.335160   \n",
       "75%                           0.288960                        -0.113167   \n",
       "max                           1.000000                         1.000000   \n",
       "\n",
       "       fBodyBodyGyroJerkMag-kurtosis()  angle(tBodyAccMean,gravity)  \\\n",
       "count                     10299.000000                 10299.000000   \n",
       "mean                         -0.617700                     0.007705   \n",
       "std                           0.308796                     0.336591   \n",
       "min                          -1.000000                    -1.000000   \n",
       "25%                          -0.841847                    -0.124694   \n",
       "50%                          -0.703402                     0.008146   \n",
       "75%                          -0.487981                     0.149005   \n",
       "max                           1.000000                     1.000000   \n",
       "\n",
       "       angle(tBodyAccJerkMean),gravityMean)  angle(tBodyGyroMean,gravityMean)  \\\n",
       "count                          10299.000000                      10299.000000   \n",
       "mean                               0.002648                          0.017683   \n",
       "std                                0.447364                          0.616188   \n",
       "min                               -1.000000                         -1.000000   \n",
       "25%                               -0.287031                         -0.493108   \n",
       "50%                                0.007668                          0.017192   \n",
       "75%                                0.291490                          0.536137   \n",
       "max                                1.000000                          1.000000   \n",
       "\n",
       "       angle(tBodyGyroJerkMean,gravityMean)  angle(X,gravityMean)  \\\n",
       "count                          10299.000000          10299.000000   \n",
       "mean                              -0.009219             -0.496522   \n",
       "std                                0.484770              0.511158   \n",
       "min                               -1.000000             -1.000000   \n",
       "25%                               -0.389041             -0.817288   \n",
       "50%                               -0.007186             -0.715631   \n",
       "75%                                0.365996             -0.521503   \n",
       "max                                1.000000              1.000000   \n",
       "\n",
       "       angle(Y,gravityMean)  angle(Z,gravityMean)  \n",
       "count          10299.000000          10299.000000  \n",
       "mean               0.063255             -0.054284  \n",
       "std                0.305468              0.268898  \n",
       "min               -1.000000             -1.000000  \n",
       "25%                0.002151             -0.131880  \n",
       "50%                0.182028             -0.003882  \n",
       "75%                0.250790              0.102970  \n",
       "max                1.000000              1.000000  \n",
       "\n",
       "[8 rows x 561 columns]"
      ]
     },
     "execution_count": 7,
     "metadata": {},
     "output_type": "execute_result"
    }
   ],
   "source": [
    "data.describe() # We dont need to scale as the range is between -1 to 1"
   ]
  },
  {
   "cell_type": "code",
   "execution_count": 8,
   "metadata": {},
   "outputs": [
    {
     "name": "stdout",
     "output_type": "stream",
     "text": [
      "-1.0    561\n",
      "dtype: int64\n"
     ]
    }
   ],
   "source": [
    "print(data.iloc[:, :-1].min().value_counts())"
   ]
  },
  {
   "cell_type": "code",
   "execution_count": 9,
   "metadata": {},
   "outputs": [
    {
     "name": "stdout",
     "output_type": "stream",
     "text": [
      "1.0    561\n",
      "dtype: int64\n"
     ]
    }
   ],
   "source": [
    "print(data.iloc[:, :-1].max().value_counts())"
   ]
  },
  {
   "cell_type": "code",
   "execution_count": 10,
   "metadata": {},
   "outputs": [
    {
     "data": {
      "text/plain": [
       "LAYING                1944\n",
       "STANDING              1906\n",
       "SITTING               1777\n",
       "WALKING               1722\n",
       "WALKING_UPSTAIRS      1544\n",
       "WALKING_DOWNSTAIRS    1406\n",
       "Name: Activity, dtype: int64"
      ]
     },
     "execution_count": 10,
     "metadata": {},
     "output_type": "execute_result"
    }
   ],
   "source": [
    "data.Activity.value_counts()  # The data is fairly balanced."
   ]
  },
  {
   "cell_type": "markdown",
   "metadata": {},
   "source": [
    "* Scikit learn classifiers won't accept a sparse matrix for the prediction column. Thus, either `LabelEncoder` needs to be used to convert the activity labels to integers, or if `DictVectorizer` is used, the resulting matrix must be converted to a non-sparse array."
   ]
  },
  {
   "cell_type": "code",
   "execution_count": 11,
   "metadata": {},
   "outputs": [],
   "source": [
    "from sklearn.preprocessing import LabelEncoder"
   ]
  },
  {
   "cell_type": "code",
   "execution_count": 12,
   "metadata": {},
   "outputs": [],
   "source": [
    "def ordinal_encoding(frame, column):\n",
    "    le = LabelEncoder()\n",
    "    return le.fit_transform(frame[column]), le.classes_"
   ]
  },
  {
   "cell_type": "code",
   "execution_count": 13,
   "metadata": {},
   "outputs": [],
   "source": [
    "column_name = 'Activity'\n",
    "data[column_name], mapped_to = ordinal_encoding(data, column_name)"
   ]
  },
  {
   "cell_type": "code",
   "execution_count": 14,
   "metadata": {},
   "outputs": [],
   "source": [
    "class_dict = dict(zip(data_orig[column_name].unique(), data['Activity'].unique()))"
   ]
  },
  {
   "cell_type": "code",
   "execution_count": 15,
   "metadata": {},
   "outputs": [
    {
     "data": {
      "text/plain": [
       "('LAYING', 0.0)"
      ]
     },
     "execution_count": 15,
     "metadata": {},
     "output_type": "execute_result"
    }
   ],
   "source": [
    "data_orig.loc[598].Activity , data.loc[598].Activity"
   ]
  },
  {
   "cell_type": "code",
   "execution_count": 16,
   "metadata": {
    "scrolled": true
   },
   "outputs": [
    {
     "data": {
      "text/plain": [
       "9304    3\n",
       "8980    3\n",
       "9495    3\n",
       "5170    3\n",
       "4915    1\n",
       "Name: Activity, dtype: int32"
      ]
     },
     "execution_count": 16,
     "metadata": {},
     "output_type": "execute_result"
    }
   ],
   "source": [
    "data.Activity.sample(5)"
   ]
  },
  {
   "cell_type": "markdown",
   "metadata": {},
   "source": [
    "### Correlations\n",
    "  * Between dependent variables"
   ]
  },
  {
   "cell_type": "code",
   "execution_count": 17,
   "metadata": {},
   "outputs": [
    {
     "data": {
      "text/plain": [
       "(10299, 562)"
      ]
     },
     "execution_count": 17,
     "metadata": {},
     "output_type": "execute_result"
    }
   ],
   "source": [
    "np.array(data).shape"
   ]
  },
  {
   "cell_type": "code",
   "execution_count": 18,
   "metadata": {},
   "outputs": [],
   "source": [
    "def get_corr(frame, independent):\n",
    "    dependent = frame.drop(independent, axis=1)\n",
    "    return dependent.corr()"
   ]
  },
  {
   "cell_type": "code",
   "execution_count": 19,
   "metadata": {},
   "outputs": [],
   "source": [
    "corr = get_corr(data, column_name)"
   ]
  },
  {
   "cell_type": "code",
   "execution_count": 20,
   "metadata": {},
   "outputs": [],
   "source": [
    "def get_correlation_for_feature(correlation_frame):\n",
    "    lower_triang = np.tril_indices_from(corr)  # retrieving indices of lower triangular matrix as it's a symmetric matrix\n",
    "#     for coordinates in list(zip(*lower_triang)):  # The * operator unpacks all the values of array \n",
    "    cir = np.array(correlation_frame) \n",
    "    cir[lower_triang] = np.nan\n",
    "#     feature_df = pd.DataFrame(cir)\n",
    "    # to get a dataframe with feature names\n",
    "    feature_df = pd.DataFrame(cir, columns=data.drop('Activity', axis=1).columns, index=data.drop('Activity', axis=1).columns)\n",
    "    \n",
    "    \n",
    "    corr_frame = (feature_df    # dataframe with lower triangle Nan-ed out\n",
    "              .stack()\n",
    "              .to_frame()\n",
    "              .reset_index()   # turns the existing index into column and creates new numeric index\n",
    "              .rename(columns={'level_0':'feature1',\n",
    "                                'level_1':'feature2',\n",
    "                                0:'correlation'}))\n",
    "    corr_frame['Absolutecorrelation'] = corr_frame.correlation.abs()\n",
    "    return corr_frame"
   ]
  },
  {
   "cell_type": "markdown",
   "metadata": {},
   "source": [
    "``` Python \n",
    "corr.isna().sum()  # The entire upper triangular matrix is made equal to Nan\n",
    "```"
   ]
  },
  {
   "cell_type": "markdown",
   "metadata": {},
   "source": [
    "``` Python\n",
    "corr.stack().loc['tBodyAcc-mean()-X'].shape   # stack creates each column as subindex for every index\n",
    "```"
   ]
  },
  {
   "cell_type": "code",
   "execution_count": 21,
   "metadata": {},
   "outputs": [
    {
     "data": {
      "text/plain": [
       "(157080, 4)"
      ]
     },
     "execution_count": 21,
     "metadata": {},
     "output_type": "execute_result"
    }
   ],
   "source": [
    "corr_features = get_correlation_for_feature(corr)\n",
    "corr_features.shape"
   ]
  },
  {
   "cell_type": "code",
   "execution_count": 22,
   "metadata": {},
   "outputs": [
    {
     "data": {
      "text/plain": [
       "<Figure size 864x576 with 0 Axes>"
      ]
     },
     "metadata": {},
     "output_type": "display_data"
    },
    {
     "data": {
      "image/png": "[encoded data removed]",
      "text/plain": [
       "<Figure size 360x360 with 1 Axes>"
      ]
     },
     "metadata": {},
     "output_type": "display_data"
    }
   ],
   "source": [
    "plt.figure(figsize=(12, 8))\n",
    "sns.set_style('white')\n",
    "sns.set_context('talk')\n",
    "sns.displot(corr_features.Absolutecorrelation, color='red', bins=50)\n",
    "plt.xlabel('correlation')\n",
    "plt.ylabel('Frequency')\n",
    "plt.grid(True)\n",
    "plt.show()"
   ]
  },
  {
   "cell_type": "markdown",
   "metadata": {},
   "source": [
    "* Looking at the correlation histogram there are higly correlated features"
   ]
  },
  {
   "cell_type": "code",
   "execution_count": 23,
   "metadata": {},
   "outputs": [
    {
     "data": {
      "text/html": [
       "<div>\n",
       "<style scoped>\n",
       "    .dataframe tbody tr th:only-of-type {\n",
       "        vertical-align: middle;\n",
       "    }\n",
       "\n",
       "    .dataframe tbody tr th {\n",
       "        vertical-align: top;\n",
       "    }\n",
       "\n",
       "    .dataframe thead th {\n",
       "        text-align: right;\n",
       "    }\n",
       "</style>\n",
       "<table border=\"1\" class=\"dataframe\">\n",
       "  <thead>\n",
       "    <tr style=\"text-align: right;\">\n",
       "      <th></th>\n",
       "      <th>feature1</th>\n",
       "      <th>feature2</th>\n",
       "      <th>correlation</th>\n",
       "      <th>Absolutecorrelation</th>\n",
       "    </tr>\n",
       "  </thead>\n",
       "  <tbody>\n",
       "    <tr>\n",
       "      <th>1677</th>\n",
       "      <td>tBodyAcc-std()-X</td>\n",
       "      <td>tBodyAcc-std()-Y</td>\n",
       "      <td>0.922525</td>\n",
       "      <td>0.922525</td>\n",
       "    </tr>\n",
       "    <tr>\n",
       "      <th>1678</th>\n",
       "      <td>tBodyAcc-std()-X</td>\n",
       "      <td>tBodyAcc-std()-Z</td>\n",
       "      <td>0.861910</td>\n",
       "      <td>0.861910</td>\n",
       "    </tr>\n",
       "    <tr>\n",
       "      <th>1679</th>\n",
       "      <td>tBodyAcc-std()-X</td>\n",
       "      <td>tBodyAcc-mad()-X</td>\n",
       "      <td>0.998662</td>\n",
       "      <td>0.998662</td>\n",
       "    </tr>\n",
       "    <tr>\n",
       "      <th>1680</th>\n",
       "      <td>tBodyAcc-std()-X</td>\n",
       "      <td>tBodyAcc-mad()-Y</td>\n",
       "      <td>0.916087</td>\n",
       "      <td>0.916087</td>\n",
       "    </tr>\n",
       "    <tr>\n",
       "      <th>1681</th>\n",
       "      <td>tBodyAcc-std()-X</td>\n",
       "      <td>tBodyAcc-mad()-Z</td>\n",
       "      <td>0.856497</td>\n",
       "      <td>0.856497</td>\n",
       "    </tr>\n",
       "    <tr>\n",
       "      <th>...</th>\n",
       "      <td>...</td>\n",
       "      <td>...</td>\n",
       "      <td>...</td>\n",
       "      <td>...</td>\n",
       "    </tr>\n",
       "    <tr>\n",
       "      <th>156976</th>\n",
       "      <td>fBodyBodyGyroJerkMag-sma()</td>\n",
       "      <td>fBodyBodyGyroJerkMag-iqr()</td>\n",
       "      <td>0.981439</td>\n",
       "      <td>0.981439</td>\n",
       "    </tr>\n",
       "    <tr>\n",
       "      <th>156977</th>\n",
       "      <td>fBodyBodyGyroJerkMag-sma()</td>\n",
       "      <td>fBodyBodyGyroJerkMag-entropy()</td>\n",
       "      <td>0.897582</td>\n",
       "      <td>0.897582</td>\n",
       "    </tr>\n",
       "    <tr>\n",
       "      <th>156989</th>\n",
       "      <td>fBodyBodyGyroJerkMag-energy()</td>\n",
       "      <td>fBodyBodyGyroJerkMag-iqr()</td>\n",
       "      <td>0.866652</td>\n",
       "      <td>0.866652</td>\n",
       "    </tr>\n",
       "    <tr>\n",
       "      <th>157002</th>\n",
       "      <td>fBodyBodyGyroJerkMag-iqr()</td>\n",
       "      <td>fBodyBodyGyroJerkMag-entropy()</td>\n",
       "      <td>0.888263</td>\n",
       "      <td>0.888263</td>\n",
       "    </tr>\n",
       "    <tr>\n",
       "      <th>157044</th>\n",
       "      <td>fBodyBodyGyroJerkMag-skewness()</td>\n",
       "      <td>fBodyBodyGyroJerkMag-kurtosis()</td>\n",
       "      <td>0.967696</td>\n",
       "      <td>0.967696</td>\n",
       "    </tr>\n",
       "  </tbody>\n",
       "</table>\n",
       "<p>22815 rows × 4 columns</p>\n",
       "</div>"
      ],
      "text/plain": [
       "                               feature1                         feature2  \\\n",
       "1677                   tBodyAcc-std()-X                 tBodyAcc-std()-Y   \n",
       "1678                   tBodyAcc-std()-X                 tBodyAcc-std()-Z   \n",
       "1679                   tBodyAcc-std()-X                 tBodyAcc-mad()-X   \n",
       "1680                   tBodyAcc-std()-X                 tBodyAcc-mad()-Y   \n",
       "1681                   tBodyAcc-std()-X                 tBodyAcc-mad()-Z   \n",
       "...                                 ...                              ...   \n",
       "156976       fBodyBodyGyroJerkMag-sma()       fBodyBodyGyroJerkMag-iqr()   \n",
       "156977       fBodyBodyGyroJerkMag-sma()   fBodyBodyGyroJerkMag-entropy()   \n",
       "156989    fBodyBodyGyroJerkMag-energy()       fBodyBodyGyroJerkMag-iqr()   \n",
       "157002       fBodyBodyGyroJerkMag-iqr()   fBodyBodyGyroJerkMag-entropy()   \n",
       "157044  fBodyBodyGyroJerkMag-skewness()  fBodyBodyGyroJerkMag-kurtosis()   \n",
       "\n",
       "        correlation  Absolutecorrelation  \n",
       "1677       0.922525             0.922525  \n",
       "1678       0.861910             0.861910  \n",
       "1679       0.998662             0.998662  \n",
       "1680       0.916087             0.916087  \n",
       "1681       0.856497             0.856497  \n",
       "...             ...                  ...  \n",
       "156976     0.981439             0.981439  \n",
       "156977     0.897582             0.897582  \n",
       "156989     0.866652             0.866652  \n",
       "157002     0.888263             0.888263  \n",
       "157044     0.967696             0.967696  \n",
       "\n",
       "[22815 rows x 4 columns]"
      ]
     },
     "execution_count": 23,
     "metadata": {},
     "output_type": "execute_result"
    }
   ],
   "source": [
    "corr_features[corr_features['Absolutecorrelation'] > 0.8]"
   ]
  },
  {
   "cell_type": "markdown",
   "metadata": {},
   "source": [
    "### Data preprocessing"
   ]
  },
  {
   "cell_type": "code",
   "execution_count": 24,
   "metadata": {},
   "outputs": [],
   "source": [
    "from sklearn.model_selection import StratifiedShuffleSplit"
   ]
  },
  {
   "cell_type": "code",
   "execution_count": 25,
   "metadata": {},
   "outputs": [],
   "source": [
    "def get_splits(dataframe, target):\n",
    "    X = dataframe.drop(target, axis=1)\n",
    "    y = dataframe[target]\n",
    "    split_obj = StratifiedShuffleSplit(n_splits=1, random_state=42, test_size=0.3)\n",
    "    train_indices, test_indices = next(split_obj.split(X, y))\n",
    "    x_train, y_train, x_test, y_test = X.loc[train_indices], y.loc[train_indices], X.loc[test_indices], y.loc[test_indices] \n",
    "    return  x_train, y_train, x_test, y_test"
   ]
  },
  {
   "cell_type": "code",
   "execution_count": 26,
   "metadata": {},
   "outputs": [],
   "source": [
    "X_train, y_train, X_test, y_test = get_splits(data, 'Activity')"
   ]
  },
  {
   "cell_type": "code",
   "execution_count": 27,
   "metadata": {},
   "outputs": [
    {
     "data": {
      "text/plain": [
       "(0    0.188792\n",
       " 2    0.185046\n",
       " 1    0.172562\n",
       " 3    0.167152\n",
       " 5    0.149951\n",
       " 4    0.136496\n",
       " Name: Activity, dtype: float64,\n",
       " 0    0.188673\n",
       " 2    0.185113\n",
       " 1    0.172492\n",
       " 3    0.167314\n",
       " 5    0.149838\n",
       " 4    0.136570\n",
       " Name: Activity, dtype: float64)"
      ]
     },
     "execution_count": 27,
     "metadata": {},
     "output_type": "execute_result"
    }
   ],
   "source": [
    "# Normalize divides all the count values by sum of counts\n",
    "y_train.value_counts(normalize=True), y_test.value_counts(normalize=True)  # almost similar. So there is no imbalance"
   ]
  },
  {
   "cell_type": "markdown",
   "metadata": {},
   "source": [
    "## Fitting a Logistic regression model"
   ]
  },
  {
   "cell_type": "code",
   "execution_count": 28,
   "metadata": {},
   "outputs": [],
   "source": [
    "from sklearn.linear_model import LogisticRegression"
   ]
  },
  {
   "cell_type": "code",
   "execution_count": 29,
   "metadata": {},
   "outputs": [
    {
     "data": {
      "text/plain": [
       "LogisticRegression(solver='liblinear')"
      ]
     },
     "execution_count": 29,
     "metadata": {},
     "output_type": "execute_result"
    }
   ],
   "source": [
    "Logreg = LogisticRegression(solver='liblinear')\n",
    "Logreg.fit(X_train, y_train)"
   ]
  },
  {
   "cell_type": "code",
   "execution_count": 30,
   "metadata": {},
   "outputs": [],
   "source": [
    "from sklearn.linear_model import LogisticRegressionCV"
   ]
  },
  {
   "cell_type": "code",
   "execution_count": 31,
   "metadata": {},
   "outputs": [
    {
     "data": {
      "text/plain": [
       "LogisticRegressionCV(cv=4, penalty='l1', solver='liblinear')"
      ]
     },
     "execution_count": 31,
     "metadata": {},
     "output_type": "execute_result"
    }
   ],
   "source": [
    "log_l1 = LogisticRegressionCV(cv=4, penalty='l1', Cs=10, solver='liblinear')  # we are doing One vs rest Not Multinomial or softmax\n",
    "log_l1.fit(X_train, y_train)"
   ]
  },
  {
   "cell_type": "code",
   "execution_count": 32,
   "metadata": {},
   "outputs": [
    {
     "data": {
      "text/plain": [
       "LogisticRegressionCV(cv=4, solver='liblinear')"
      ]
     },
     "execution_count": 32,
     "metadata": {},
     "output_type": "execute_result"
    }
   ],
   "source": [
    "log_l2 = LogisticRegressionCV(cv=4, penalty='l2', Cs=10, solver='liblinear')  # 10 different C values\n",
    "log_l2.fit(X_train, y_train)"
   ]
  },
  {
   "cell_type": "code",
   "execution_count": 33,
   "metadata": {},
   "outputs": [
    {
     "data": {
      "text/plain": [
       "(6, 561)"
      ]
     },
     "execution_count": 33,
     "metadata": {},
     "output_type": "execute_result"
    }
   ],
   "source": [
    "log_l1.coef_.shape"
   ]
  },
  {
   "cell_type": "code",
   "execution_count": 34,
   "metadata": {},
   "outputs": [],
   "source": [
    "coeffs_list = []\n",
    "\n",
    "labels = ['logreg', 'l1', 'l2']\n",
    "estimators = [Logreg, log_l1, log_l2]\n",
    "for label, est in zip(labels, estimators):\n",
    "    coeffs = est.coef_\n",
    "    column_names = pd.MultiIndex(levels=[[label], sorted(class_dict)], codes=[[0, 0, 0, 0, 0, 0],[0,1, 2, 3, 4, 5]])\n",
    "    coeffs_list.append(pd.DataFrame(coeffs.T, columns=column_names))\n",
    "coeff_frame = pd.concat(coeffs_list, axis=1)"
   ]
  },
  {
   "cell_type": "code",
   "execution_count": 35,
   "metadata": {},
   "outputs": [
    {
     "data": {
      "text/html": [
       "<div>\n",
       "<style scoped>\n",
       "    .dataframe tbody tr th:only-of-type {\n",
       "        vertical-align: middle;\n",
       "    }\n",
       "\n",
       "    .dataframe tbody tr th {\n",
       "        vertical-align: top;\n",
       "    }\n",
       "\n",
       "    .dataframe thead tr th {\n",
       "        text-align: left;\n",
       "    }\n",
       "</style>\n",
       "<table border=\"1\" class=\"dataframe\">\n",
       "  <thead>\n",
       "    <tr>\n",
       "      <th></th>\n",
       "      <th colspan=\"6\" halign=\"left\">logreg</th>\n",
       "      <th colspan=\"6\" halign=\"left\">l1</th>\n",
       "      <th colspan=\"6\" halign=\"left\">l2</th>\n",
       "    </tr>\n",
       "    <tr>\n",
       "      <th></th>\n",
       "      <th>LAYING</th>\n",
       "      <th>SITTING</th>\n",
       "      <th>STANDING</th>\n",
       "      <th>WALKING</th>\n",
       "      <th>WALKING_DOWNSTAIRS</th>\n",
       "      <th>WALKING_UPSTAIRS</th>\n",
       "      <th>LAYING</th>\n",
       "      <th>SITTING</th>\n",
       "      <th>STANDING</th>\n",
       "      <th>WALKING</th>\n",
       "      <th>WALKING_DOWNSTAIRS</th>\n",
       "      <th>WALKING_UPSTAIRS</th>\n",
       "      <th>LAYING</th>\n",
       "      <th>SITTING</th>\n",
       "      <th>STANDING</th>\n",
       "      <th>WALKING</th>\n",
       "      <th>WALKING_DOWNSTAIRS</th>\n",
       "      <th>WALKING_UPSTAIRS</th>\n",
       "    </tr>\n",
       "  </thead>\n",
       "  <tbody>\n",
       "    <tr>\n",
       "      <th>0</th>\n",
       "      <td>-0.087506</td>\n",
       "      <td>-0.445226</td>\n",
       "      <td>0.257963</td>\n",
       "      <td>-0.169284</td>\n",
       "      <td>0.765611</td>\n",
       "      <td>-0.080084</td>\n",
       "      <td>-0.069235</td>\n",
       "      <td>0.000000</td>\n",
       "      <td>0.000000</td>\n",
       "      <td>0.000000</td>\n",
       "      <td>3.936121</td>\n",
       "      <td>0.000000</td>\n",
       "      <td>-0.135283</td>\n",
       "      <td>-1.347882</td>\n",
       "      <td>0.484658</td>\n",
       "      <td>-0.478904</td>\n",
       "      <td>1.830108</td>\n",
       "      <td>0.270660</td>\n",
       "    </tr>\n",
       "    <tr>\n",
       "      <th>1</th>\n",
       "      <td>0.014493</td>\n",
       "      <td>-0.201046</td>\n",
       "      <td>0.060892</td>\n",
       "      <td>-0.023509</td>\n",
       "      <td>0.107967</td>\n",
       "      <td>-0.247193</td>\n",
       "      <td>0.000000</td>\n",
       "      <td>0.000000</td>\n",
       "      <td>0.000000</td>\n",
       "      <td>0.000000</td>\n",
       "      <td>0.000000</td>\n",
       "      <td>0.000000</td>\n",
       "      <td>0.029334</td>\n",
       "      <td>-1.136833</td>\n",
       "      <td>0.106808</td>\n",
       "      <td>-0.153962</td>\n",
       "      <td>0.186418</td>\n",
       "      <td>-0.884468</td>\n",
       "    </tr>\n",
       "    <tr>\n",
       "      <th>2</th>\n",
       "      <td>0.030187</td>\n",
       "      <td>0.063196</td>\n",
       "      <td>0.245909</td>\n",
       "      <td>0.022339</td>\n",
       "      <td>0.058980</td>\n",
       "      <td>-0.402526</td>\n",
       "      <td>0.000000</td>\n",
       "      <td>0.000000</td>\n",
       "      <td>0.000000</td>\n",
       "      <td>0.000000</td>\n",
       "      <td>0.000000</td>\n",
       "      <td>0.000000</td>\n",
       "      <td>0.040581</td>\n",
       "      <td>-1.421389</td>\n",
       "      <td>0.464225</td>\n",
       "      <td>0.134557</td>\n",
       "      <td>0.009798</td>\n",
       "      <td>-1.652023</td>\n",
       "    </tr>\n",
       "    <tr>\n",
       "      <th>3</th>\n",
       "      <td>0.004590</td>\n",
       "      <td>-0.733963</td>\n",
       "      <td>-0.352732</td>\n",
       "      <td>-0.701328</td>\n",
       "      <td>0.266984</td>\n",
       "      <td>0.696120</td>\n",
       "      <td>0.000000</td>\n",
       "      <td>-1.635590</td>\n",
       "      <td>-0.580560</td>\n",
       "      <td>-1.010945</td>\n",
       "      <td>0.000000</td>\n",
       "      <td>2.363191</td>\n",
       "      <td>0.019091</td>\n",
       "      <td>-2.562807</td>\n",
       "      <td>-0.435129</td>\n",
       "      <td>-1.788829</td>\n",
       "      <td>0.278696</td>\n",
       "      <td>3.195553</td>\n",
       "    </tr>\n",
       "    <tr>\n",
       "      <th>4</th>\n",
       "      <td>-0.045407</td>\n",
       "      <td>-0.034154</td>\n",
       "      <td>-0.451850</td>\n",
       "      <td>0.260244</td>\n",
       "      <td>-0.516844</td>\n",
       "      <td>0.106248</td>\n",
       "      <td>0.000000</td>\n",
       "      <td>0.000000</td>\n",
       "      <td>-1.485767</td>\n",
       "      <td>0.000000</td>\n",
       "      <td>-1.451499</td>\n",
       "      <td>0.000000</td>\n",
       "      <td>-0.035987</td>\n",
       "      <td>0.604907</td>\n",
       "      <td>-0.665766</td>\n",
       "      <td>0.902873</td>\n",
       "      <td>-0.974665</td>\n",
       "      <td>0.137099</td>\n",
       "    </tr>\n",
       "    <tr>\n",
       "      <th>...</th>\n",
       "      <td>...</td>\n",
       "      <td>...</td>\n",
       "      <td>...</td>\n",
       "      <td>...</td>\n",
       "      <td>...</td>\n",
       "      <td>...</td>\n",
       "      <td>...</td>\n",
       "      <td>...</td>\n",
       "      <td>...</td>\n",
       "      <td>...</td>\n",
       "      <td>...</td>\n",
       "      <td>...</td>\n",
       "      <td>...</td>\n",
       "      <td>...</td>\n",
       "      <td>...</td>\n",
       "      <td>...</td>\n",
       "      <td>...</td>\n",
       "      <td>...</td>\n",
       "    </tr>\n",
       "    <tr>\n",
       "      <th>556</th>\n",
       "      <td>-0.022132</td>\n",
       "      <td>-0.659468</td>\n",
       "      <td>0.550630</td>\n",
       "      <td>-0.234927</td>\n",
       "      <td>0.385178</td>\n",
       "      <td>-0.351492</td>\n",
       "      <td>0.000000</td>\n",
       "      <td>-0.764471</td>\n",
       "      <td>0.488689</td>\n",
       "      <td>-0.153307</td>\n",
       "      <td>0.469368</td>\n",
       "      <td>-0.733520</td>\n",
       "      <td>-0.142627</td>\n",
       "      <td>-0.820564</td>\n",
       "      <td>0.584620</td>\n",
       "      <td>-0.632207</td>\n",
       "      <td>0.642775</td>\n",
       "      <td>-0.983198</td>\n",
       "    </tr>\n",
       "    <tr>\n",
       "      <th>557</th>\n",
       "      <td>0.058454</td>\n",
       "      <td>-0.246969</td>\n",
       "      <td>0.268995</td>\n",
       "      <td>-0.162010</td>\n",
       "      <td>-0.157603</td>\n",
       "      <td>0.174153</td>\n",
       "      <td>0.000000</td>\n",
       "      <td>-0.665117</td>\n",
       "      <td>0.870864</td>\n",
       "      <td>-0.083177</td>\n",
       "      <td>-0.048760</td>\n",
       "      <td>0.366458</td>\n",
       "      <td>0.119148</td>\n",
       "      <td>-0.677064</td>\n",
       "      <td>0.456842</td>\n",
       "      <td>-0.486390</td>\n",
       "      <td>-0.148001</td>\n",
       "      <td>0.634879</td>\n",
       "    </tr>\n",
       "    <tr>\n",
       "      <th>558</th>\n",
       "      <td>1.599105</td>\n",
       "      <td>-2.473094</td>\n",
       "      <td>-0.854612</td>\n",
       "      <td>-0.313142</td>\n",
       "      <td>-0.712694</td>\n",
       "      <td>0.416311</td>\n",
       "      <td>3.575271</td>\n",
       "      <td>-7.977984</td>\n",
       "      <td>0.000000</td>\n",
       "      <td>0.000000</td>\n",
       "      <td>-0.929192</td>\n",
       "      <td>0.245539</td>\n",
       "      <td>2.949029</td>\n",
       "      <td>-9.613009</td>\n",
       "      <td>-0.922835</td>\n",
       "      <td>-0.832554</td>\n",
       "      <td>-1.463022</td>\n",
       "      <td>1.569913</td>\n",
       "    </tr>\n",
       "    <tr>\n",
       "      <th>559</th>\n",
       "      <td>-0.374313</td>\n",
       "      <td>-0.740397</td>\n",
       "      <td>1.771455</td>\n",
       "      <td>-0.242904</td>\n",
       "      <td>-0.275139</td>\n",
       "      <td>0.876728</td>\n",
       "      <td>-0.683136</td>\n",
       "      <td>0.000000</td>\n",
       "      <td>0.000000</td>\n",
       "      <td>0.000000</td>\n",
       "      <td>0.000000</td>\n",
       "      <td>2.359280</td>\n",
       "      <td>-0.543058</td>\n",
       "      <td>2.936913</td>\n",
       "      <td>2.219872</td>\n",
       "      <td>-0.940710</td>\n",
       "      <td>-0.660464</td>\n",
       "      <td>3.689748</td>\n",
       "    </tr>\n",
       "    <tr>\n",
       "      <th>560</th>\n",
       "      <td>-0.188309</td>\n",
       "      <td>-0.298022</td>\n",
       "      <td>0.416920</td>\n",
       "      <td>0.065047</td>\n",
       "      <td>-0.042363</td>\n",
       "      <td>0.438815</td>\n",
       "      <td>-0.649655</td>\n",
       "      <td>0.000000</td>\n",
       "      <td>0.000000</td>\n",
       "      <td>0.000000</td>\n",
       "      <td>0.000000</td>\n",
       "      <td>2.762571</td>\n",
       "      <td>-0.230753</td>\n",
       "      <td>0.888350</td>\n",
       "      <td>0.568867</td>\n",
       "      <td>0.129749</td>\n",
       "      <td>-0.083912</td>\n",
       "      <td>1.905932</td>\n",
       "    </tr>\n",
       "  </tbody>\n",
       "</table>\n",
       "<p>561 rows × 18 columns</p>\n",
       "</div>"
      ],
      "text/plain": [
       "       logreg                                                   \\\n",
       "       LAYING   SITTING  STANDING   WALKING WALKING_DOWNSTAIRS   \n",
       "0   -0.087506 -0.445226  0.257963 -0.169284           0.765611   \n",
       "1    0.014493 -0.201046  0.060892 -0.023509           0.107967   \n",
       "2    0.030187  0.063196  0.245909  0.022339           0.058980   \n",
       "3    0.004590 -0.733963 -0.352732 -0.701328           0.266984   \n",
       "4   -0.045407 -0.034154 -0.451850  0.260244          -0.516844   \n",
       "..        ...       ...       ...       ...                ...   \n",
       "556 -0.022132 -0.659468  0.550630 -0.234927           0.385178   \n",
       "557  0.058454 -0.246969  0.268995 -0.162010          -0.157603   \n",
       "558  1.599105 -2.473094 -0.854612 -0.313142          -0.712694   \n",
       "559 -0.374313 -0.740397  1.771455 -0.242904          -0.275139   \n",
       "560 -0.188309 -0.298022  0.416920  0.065047          -0.042363   \n",
       "\n",
       "                            l1                                \\\n",
       "    WALKING_UPSTAIRS    LAYING   SITTING  STANDING   WALKING   \n",
       "0          -0.080084 -0.069235  0.000000  0.000000  0.000000   \n",
       "1          -0.247193  0.000000  0.000000  0.000000  0.000000   \n",
       "2          -0.402526  0.000000  0.000000  0.000000  0.000000   \n",
       "3           0.696120  0.000000 -1.635590 -0.580560 -1.010945   \n",
       "4           0.106248  0.000000  0.000000 -1.485767  0.000000   \n",
       "..               ...       ...       ...       ...       ...   \n",
       "556        -0.351492  0.000000 -0.764471  0.488689 -0.153307   \n",
       "557         0.174153  0.000000 -0.665117  0.870864 -0.083177   \n",
       "558         0.416311  3.575271 -7.977984  0.000000  0.000000   \n",
       "559         0.876728 -0.683136  0.000000  0.000000  0.000000   \n",
       "560         0.438815 -0.649655  0.000000  0.000000  0.000000   \n",
       "\n",
       "                                               l2                      \\\n",
       "    WALKING_DOWNSTAIRS WALKING_UPSTAIRS    LAYING   SITTING  STANDING   \n",
       "0             3.936121         0.000000 -0.135283 -1.347882  0.484658   \n",
       "1             0.000000         0.000000  0.029334 -1.136833  0.106808   \n",
       "2             0.000000         0.000000  0.040581 -1.421389  0.464225   \n",
       "3             0.000000         2.363191  0.019091 -2.562807 -0.435129   \n",
       "4            -1.451499         0.000000 -0.035987  0.604907 -0.665766   \n",
       "..                 ...              ...       ...       ...       ...   \n",
       "556           0.469368        -0.733520 -0.142627 -0.820564  0.584620   \n",
       "557          -0.048760         0.366458  0.119148 -0.677064  0.456842   \n",
       "558          -0.929192         0.245539  2.949029 -9.613009 -0.922835   \n",
       "559           0.000000         2.359280 -0.543058  2.936913  2.219872   \n",
       "560           0.000000         2.762571 -0.230753  0.888350  0.568867   \n",
       "\n",
       "                                                   \n",
       "      WALKING WALKING_DOWNSTAIRS WALKING_UPSTAIRS  \n",
       "0   -0.478904           1.830108         0.270660  \n",
       "1   -0.153962           0.186418        -0.884468  \n",
       "2    0.134557           0.009798        -1.652023  \n",
       "3   -1.788829           0.278696         3.195553  \n",
       "4    0.902873          -0.974665         0.137099  \n",
       "..        ...                ...              ...  \n",
       "556 -0.632207           0.642775        -0.983198  \n",
       "557 -0.486390          -0.148001         0.634879  \n",
       "558 -0.832554          -1.463022         1.569913  \n",
       "559 -0.940710          -0.660464         3.689748  \n",
       "560  0.129749          -0.083912         1.905932  \n",
       "\n",
       "[561 rows x 18 columns]"
      ]
     },
     "execution_count": 35,
     "metadata": {},
     "output_type": "execute_result"
    }
   ],
   "source": [
    "coeff_frame"
   ]
  },
  {
   "cell_type": "code",
   "execution_count": 53,
   "metadata": {},
   "outputs": [
    {
     "data": {
      "image/png": "[encoded data removed]",
      "text/plain": [
       "<Figure size 864x576 with 6 Axes>"
      ]
     },
     "metadata": {},
     "output_type": "display_data"
    }
   ],
   "source": [
    "classes = list(class_dict.keys())\n",
    "fig, ax = plt.subplots(3,2, figsize=(12, 8))\n",
    "axlist = ax.flatten()\n",
    "for label, i in zip(coeff_frame['logreg'].columns, axlist):\n",
    "    coeff_frame.xs(label, axis=1, level=1).plot(marker='o', ms='2.0', alpha=.6, ax=i, legend=None,  ls='', title=label)\n",
    "    \n"
   ]
  },
  {
   "cell_type": "code",
   "execution_count": 102,
   "metadata": {},
   "outputs": [
    {
     "data": {
      "text/html": [
       "<div>\n",
       "<style scoped>\n",
       "    .dataframe tbody tr th:only-of-type {\n",
       "        vertical-align: middle;\n",
       "    }\n",
       "\n",
       "    .dataframe tbody tr th {\n",
       "        vertical-align: top;\n",
       "    }\n",
       "\n",
       "    .dataframe thead th {\n",
       "        text-align: right;\n",
       "    }\n",
       "</style>\n",
       "<table border=\"1\" class=\"dataframe\">\n",
       "  <thead>\n",
       "    <tr style=\"text-align: right;\">\n",
       "      <th></th>\n",
       "      <th>0</th>\n",
       "      <th>1</th>\n",
       "      <th>2</th>\n",
       "      <th>3</th>\n",
       "      <th>4</th>\n",
       "      <th>5</th>\n",
       "    </tr>\n",
       "  </thead>\n",
       "  <tbody>\n",
       "    <tr>\n",
       "      <th>0</th>\n",
       "      <td>0.000036</td>\n",
       "      <td>6.491547e-06</td>\n",
       "      <td>1.036858e-03</td>\n",
       "      <td>9.989204e-01</td>\n",
       "      <td>4.335085e-10</td>\n",
       "      <td>3.948462e-08</td>\n",
       "    </tr>\n",
       "    <tr>\n",
       "      <th>1</th>\n",
       "      <td>0.000020</td>\n",
       "      <td>1.091334e-08</td>\n",
       "      <td>1.032196e-07</td>\n",
       "      <td>4.440179e-05</td>\n",
       "      <td>4.164304e-04</td>\n",
       "      <td>9.995190e-01</td>\n",
       "    </tr>\n",
       "    <tr>\n",
       "      <th>2</th>\n",
       "      <td>0.000004</td>\n",
       "      <td>3.530816e-03</td>\n",
       "      <td>2.117755e-07</td>\n",
       "      <td>9.952999e-01</td>\n",
       "      <td>1.161292e-03</td>\n",
       "      <td>3.997454e-06</td>\n",
       "    </tr>\n",
       "    <tr>\n",
       "      <th>3</th>\n",
       "      <td>0.000003</td>\n",
       "      <td>9.991833e-01</td>\n",
       "      <td>8.136756e-04</td>\n",
       "      <td>1.985146e-11</td>\n",
       "      <td>5.715299e-10</td>\n",
       "      <td>1.161703e-22</td>\n",
       "    </tr>\n",
       "    <tr>\n",
       "      <th>4</th>\n",
       "      <td>0.999920</td>\n",
       "      <td>8.000835e-05</td>\n",
       "      <td>2.502685e-14</td>\n",
       "      <td>3.599470e-10</td>\n",
       "      <td>1.583013e-10</td>\n",
       "      <td>4.594195e-20</td>\n",
       "    </tr>\n",
       "    <tr>\n",
       "      <th>...</th>\n",
       "      <td>...</td>\n",
       "      <td>...</td>\n",
       "      <td>...</td>\n",
       "      <td>...</td>\n",
       "      <td>...</td>\n",
       "      <td>...</td>\n",
       "    </tr>\n",
       "    <tr>\n",
       "      <th>3085</th>\n",
       "      <td>0.000003</td>\n",
       "      <td>4.875440e-01</td>\n",
       "      <td>5.119406e-01</td>\n",
       "      <td>5.120177e-04</td>\n",
       "      <td>1.458315e-10</td>\n",
       "      <td>5.259235e-09</td>\n",
       "    </tr>\n",
       "    <tr>\n",
       "      <th>3086</th>\n",
       "      <td>0.000042</td>\n",
       "      <td>1.347426e-05</td>\n",
       "      <td>6.932109e-07</td>\n",
       "      <td>9.868865e-01</td>\n",
       "      <td>9.418856e-08</td>\n",
       "      <td>1.305748e-02</td>\n",
       "    </tr>\n",
       "    <tr>\n",
       "      <th>3087</th>\n",
       "      <td>0.000001</td>\n",
       "      <td>9.836902e-01</td>\n",
       "      <td>1.630866e-02</td>\n",
       "      <td>5.722953e-11</td>\n",
       "      <td>4.044064e-10</td>\n",
       "      <td>3.114288e-11</td>\n",
       "    </tr>\n",
       "    <tr>\n",
       "      <th>3088</th>\n",
       "      <td>0.000004</td>\n",
       "      <td>9.990268e-01</td>\n",
       "      <td>2.161139e-05</td>\n",
       "      <td>5.612037e-10</td>\n",
       "      <td>3.073506e-12</td>\n",
       "      <td>9.474377e-04</td>\n",
       "    </tr>\n",
       "    <tr>\n",
       "      <th>3089</th>\n",
       "      <td>0.000202</td>\n",
       "      <td>3.031992e-07</td>\n",
       "      <td>9.559199e-06</td>\n",
       "      <td>1.352432e-03</td>\n",
       "      <td>2.272223e-05</td>\n",
       "      <td>9.984134e-01</td>\n",
       "    </tr>\n",
       "  </tbody>\n",
       "</table>\n",
       "<p>3090 rows × 6 columns</p>\n",
       "</div>"
      ],
      "text/plain": [
       "             0             1             2             3             4  \\\n",
       "0     0.000036  6.491547e-06  1.036858e-03  9.989204e-01  4.335085e-10   \n",
       "1     0.000020  1.091334e-08  1.032196e-07  4.440179e-05  4.164304e-04   \n",
       "2     0.000004  3.530816e-03  2.117755e-07  9.952999e-01  1.161292e-03   \n",
       "3     0.000003  9.991833e-01  8.136756e-04  1.985146e-11  5.715299e-10   \n",
       "4     0.999920  8.000835e-05  2.502685e-14  3.599470e-10  1.583013e-10   \n",
       "...        ...           ...           ...           ...           ...   \n",
       "3085  0.000003  4.875440e-01  5.119406e-01  5.120177e-04  1.458315e-10   \n",
       "3086  0.000042  1.347426e-05  6.932109e-07  9.868865e-01  9.418856e-08   \n",
       "3087  0.000001  9.836902e-01  1.630866e-02  5.722953e-11  4.044064e-10   \n",
       "3088  0.000004  9.990268e-01  2.161139e-05  5.612037e-10  3.073506e-12   \n",
       "3089  0.000202  3.031992e-07  9.559199e-06  1.352432e-03  2.272223e-05   \n",
       "\n",
       "                 5  \n",
       "0     3.948462e-08  \n",
       "1     9.995190e-01  \n",
       "2     3.997454e-06  \n",
       "3     1.161703e-22  \n",
       "4     4.594195e-20  \n",
       "...            ...  \n",
       "3085  5.259235e-09  \n",
       "3086  1.305748e-02  \n",
       "3087  3.114288e-11  \n",
       "3088  9.474377e-04  \n",
       "3089  9.984134e-01  \n",
       "\n",
       "[3090 rows x 6 columns]"
      ]
     },
     "execution_count": 102,
     "metadata": {},
     "output_type": "execute_result"
    }
   ],
   "source": [
    "pd.DataFrame(log_l1.predict_proba(X_test))"
   ]
  },
  {
   "cell_type": "code",
   "execution_count": 110,
   "metadata": {},
   "outputs": [],
   "source": [
    "predictons = []\n",
    "probabilities = []\n",
    "for label, est in zip(labels, estimators):\n",
    "    predictons.append(pd.Series(est.predict(X_test), name=label))\n",
    "    ind = pd.MultiIndex(levels=[[label], sorted(class_dict)], codes=[[0, 0, 0, 0, 0, 0], [0, 1, 2, 3, 4, 5]])\n",
    "    probabilities.append(pd.DataFrame(est.predict_proba(X_test), columns=ind))\n",
    "predictons_frame = pd.DataFrame(predictons)\n",
    "probabilities_frame = pd.concat(probabilities, axis=1)"
   ]
  },
  {
   "cell_type": "markdown",
   "metadata": {},
   "source": [
    "### Metrics"
   ]
  },
  {
   "cell_type": "code",
   "execution_count": 82,
   "metadata": {},
   "outputs": [],
   "source": [
    "from sklearn.metrics import precision_recall_fscore_support as score\n",
    "from sklearn.metrics import confusion_matrix, accuracy_score, roc_auc_score, roc_curve\n",
    "from sklearn.preprocessing import label_binarize"
   ]
  },
  {
   "cell_type": "code",
   "execution_count": 39,
   "metadata": {},
   "outputs": [
    {
     "data": {
      "text/html": [
       "<div>\n",
       "<style scoped>\n",
       "    .dataframe tbody tr th:only-of-type {\n",
       "        vertical-align: middle;\n",
       "    }\n",
       "\n",
       "    .dataframe tbody tr th {\n",
       "        vertical-align: top;\n",
       "    }\n",
       "\n",
       "    .dataframe thead th {\n",
       "        text-align: right;\n",
       "    }\n",
       "</style>\n",
       "<table border=\"1\" class=\"dataframe\">\n",
       "  <thead>\n",
       "    <tr style=\"text-align: right;\">\n",
       "      <th></th>\n",
       "      <th>0</th>\n",
       "      <th>1</th>\n",
       "      <th>2</th>\n",
       "      <th>3</th>\n",
       "      <th>4</th>\n",
       "      <th>5</th>\n",
       "      <th>6</th>\n",
       "      <th>7</th>\n",
       "      <th>8</th>\n",
       "      <th>9</th>\n",
       "      <th>...</th>\n",
       "      <th>3080</th>\n",
       "      <th>3081</th>\n",
       "      <th>3082</th>\n",
       "      <th>3083</th>\n",
       "      <th>3084</th>\n",
       "      <th>3085</th>\n",
       "      <th>3086</th>\n",
       "      <th>3087</th>\n",
       "      <th>3088</th>\n",
       "      <th>3089</th>\n",
       "    </tr>\n",
       "  </thead>\n",
       "  <tbody>\n",
       "    <tr>\n",
       "      <th>logreg</th>\n",
       "      <td>3</td>\n",
       "      <td>5</td>\n",
       "      <td>3</td>\n",
       "      <td>1</td>\n",
       "      <td>0</td>\n",
       "      <td>5</td>\n",
       "      <td>0</td>\n",
       "      <td>2</td>\n",
       "      <td>0</td>\n",
       "      <td>0</td>\n",
       "      <td>...</td>\n",
       "      <td>5</td>\n",
       "      <td>2</td>\n",
       "      <td>2</td>\n",
       "      <td>2</td>\n",
       "      <td>1</td>\n",
       "      <td>2</td>\n",
       "      <td>3</td>\n",
       "      <td>1</td>\n",
       "      <td>1</td>\n",
       "      <td>5</td>\n",
       "    </tr>\n",
       "    <tr>\n",
       "      <th>l1</th>\n",
       "      <td>3</td>\n",
       "      <td>5</td>\n",
       "      <td>3</td>\n",
       "      <td>1</td>\n",
       "      <td>0</td>\n",
       "      <td>5</td>\n",
       "      <td>0</td>\n",
       "      <td>2</td>\n",
       "      <td>0</td>\n",
       "      <td>0</td>\n",
       "      <td>...</td>\n",
       "      <td>5</td>\n",
       "      <td>2</td>\n",
       "      <td>2</td>\n",
       "      <td>2</td>\n",
       "      <td>1</td>\n",
       "      <td>2</td>\n",
       "      <td>3</td>\n",
       "      <td>1</td>\n",
       "      <td>1</td>\n",
       "      <td>5</td>\n",
       "    </tr>\n",
       "    <tr>\n",
       "      <th>l2</th>\n",
       "      <td>3</td>\n",
       "      <td>5</td>\n",
       "      <td>3</td>\n",
       "      <td>1</td>\n",
       "      <td>0</td>\n",
       "      <td>5</td>\n",
       "      <td>0</td>\n",
       "      <td>2</td>\n",
       "      <td>0</td>\n",
       "      <td>0</td>\n",
       "      <td>...</td>\n",
       "      <td>5</td>\n",
       "      <td>2</td>\n",
       "      <td>2</td>\n",
       "      <td>2</td>\n",
       "      <td>1</td>\n",
       "      <td>2</td>\n",
       "      <td>3</td>\n",
       "      <td>1</td>\n",
       "      <td>1</td>\n",
       "      <td>5</td>\n",
       "    </tr>\n",
       "  </tbody>\n",
       "</table>\n",
       "<p>3 rows × 3090 columns</p>\n",
       "</div>"
      ],
      "text/plain": [
       "        0     1     2     3     4     5     6     7     8     9     ...  3080  \\\n",
       "logreg     3     5     3     1     0     5     0     2     0     0  ...     5   \n",
       "l1         3     5     3     1     0     5     0     2     0     0  ...     5   \n",
       "l2         3     5     3     1     0     5     0     2     0     0  ...     5   \n",
       "\n",
       "        3081  3082  3083  3084  3085  3086  3087  3088  3089  \n",
       "logreg     2     2     2     1     2     3     1     1     5  \n",
       "l1         2     2     2     1     2     3     1     1     5  \n",
       "l2         2     2     2     1     2     3     1     1     5  \n",
       "\n",
       "[3 rows x 3090 columns]"
      ]
     },
     "execution_count": 39,
     "metadata": {},
     "output_type": "execute_result"
    }
   ],
   "source": [
    "predictons_frame.head()"
   ]
  },
  {
   "cell_type": "code",
   "execution_count": 120,
   "metadata": {},
   "outputs": [],
   "source": [
    "conf_matrix = dict()\n",
    "metrics = list()\n",
    "for label in labels:\n",
    "    precision, recall, f1_score, support = score(y_test, predictons_frame.loc[label], average='weighted')\n",
    "    accuracy = accuracy_score(y_test, predictons_frame.loc[label])\n",
    "    auc_score = roc_auc_score(label_binarize(y_test, classes=[0, 1, 2, 3, 4, 5]), probabilities_frame[label], average='weighted')\n",
    "    conf_matrix[label] = confusion_matrix(y_test, predictons_frame.loc[label])\n",
    "    metrics.append(pd.Series({'precision':precision, 'recall':recall, \n",
    "                              'fscore':f1_score, 'accuracy':accuracy,\n",
    "                              'auc':auc_score}, \n",
    "                             name=label))\n",
    "metrics = pd.concat(metrics, axis=1)\n",
    "    "
   ]
  },
  {
   "cell_type": "code",
   "execution_count": 121,
   "metadata": {},
   "outputs": [
    {
     "data": {
      "text/html": [
       "<div>\n",
       "<style scoped>\n",
       "    .dataframe tbody tr th:only-of-type {\n",
       "        vertical-align: middle;\n",
       "    }\n",
       "\n",
       "    .dataframe tbody tr th {\n",
       "        vertical-align: top;\n",
       "    }\n",
       "\n",
       "    .dataframe thead th {\n",
       "        text-align: right;\n",
       "    }\n",
       "</style>\n",
       "<table border=\"1\" class=\"dataframe\">\n",
       "  <thead>\n",
       "    <tr style=\"text-align: right;\">\n",
       "      <th></th>\n",
       "      <th>logreg</th>\n",
       "      <th>l1</th>\n",
       "      <th>l2</th>\n",
       "    </tr>\n",
       "  </thead>\n",
       "  <tbody>\n",
       "    <tr>\n",
       "      <th>precision</th>\n",
       "      <td>0.984144</td>\n",
       "      <td>0.983514</td>\n",
       "      <td>0.983824</td>\n",
       "    </tr>\n",
       "    <tr>\n",
       "      <th>recall</th>\n",
       "      <td>0.984142</td>\n",
       "      <td>0.983495</td>\n",
       "      <td>0.983819</td>\n",
       "    </tr>\n",
       "    <tr>\n",
       "      <th>fscore</th>\n",
       "      <td>0.984143</td>\n",
       "      <td>0.983492</td>\n",
       "      <td>0.983819</td>\n",
       "    </tr>\n",
       "    <tr>\n",
       "      <th>accuracy</th>\n",
       "      <td>0.984142</td>\n",
       "      <td>0.983495</td>\n",
       "      <td>0.983819</td>\n",
       "    </tr>\n",
       "    <tr>\n",
       "      <th>auc</th>\n",
       "      <td>0.999338</td>\n",
       "      <td>0.999367</td>\n",
       "      <td>0.999252</td>\n",
       "    </tr>\n",
       "  </tbody>\n",
       "</table>\n",
       "</div>"
      ],
      "text/plain": [
       "             logreg        l1        l2\n",
       "precision  0.984144  0.983514  0.983824\n",
       "recall     0.984142  0.983495  0.983819\n",
       "fscore     0.984143  0.983492  0.983819\n",
       "accuracy   0.984142  0.983495  0.983819\n",
       "auc        0.999338  0.999367  0.999252"
      ]
     },
     "execution_count": 121,
     "metadata": {},
     "output_type": "execute_result"
    }
   ],
   "source": [
    "metrics"
   ]
  },
  {
   "cell_type": "code",
   "execution_count": 75,
   "metadata": {},
   "outputs": [
    {
     "data": {
      "text/plain": [
       "array([[583,   0,   0,   0,   0,   0],\n",
       "       [  0, 512,  21,   0,   0,   0],\n",
       "       [  0,  22, 550,   0,   0,   0],\n",
       "       [  0,   0,   0, 515,   1,   1],\n",
       "       [  0,   0,   0,   1, 420,   1],\n",
       "       [  0,   0,   0,   1,   1, 461]], dtype=int64)"
      ]
     },
     "execution_count": 75,
     "metadata": {},
     "output_type": "execute_result"
    }
   ],
   "source": [
    "conf_matrix['logreg']"
   ]
  },
  {
   "cell_type": "code",
   "execution_count": 76,
   "metadata": {},
   "outputs": [],
   "source": [
    "def get_confmatrix_elements(conf_matrix):\n",
    "    FP = conf_matrix.sum(axis=0) - np.diag(conf_matrix)  \n",
    "    FN = conf_matrix.sum(axis=1) - np.diag(conf_matrix)\n",
    "    TP = np.diag(conf_matrix)\n",
    "    TN = conf_matrix.values.sum() - (FP + FN + TP)\n",
    "    return TP, FP, TN, FN"
   ]
  },
  {
   "cell_type": "markdown",
   "metadata": {},
   "source": [
    "* A quick check"
   ]
  },
  {
   "cell_type": "code",
   "execution_count": 79,
   "metadata": {},
   "outputs": [
    {
     "data": {
      "text/plain": [
       "0.9838187702265372"
      ]
     },
     "execution_count": 79,
     "metadata": {},
     "output_type": "execute_result"
    }
   ],
   "source": [
    "tp, fp, tn, fn = get_confmatrix_elements(pd.DataFrame(conf_matrix['l2']))\n",
    "micro_avg_recall = tp.sum()/(tp + fn).sum()  \n",
    "micro_avg_precision = tp.sum()/(tp + fp).sum()\n",
    "f1 = 2* micro_avg_precision * micro_avg_recall/(micro_avg_precision + micro_avg_recall)\n",
    "f1"
   ]
  },
  {
   "cell_type": "code",
   "execution_count": 126,
   "metadata": {
    "scrolled": true
   },
   "outputs": [
    {
     "data": {
      "image/png": "[encoded data removed]",
      "text/plain": [
       "<Figure size 864x720 with 7 Axes>"
      ]
     },
     "metadata": {},
     "output_type": "display_data"
    }
   ],
   "source": [
    "fig, ax = plt.subplots(2, 2)\n",
    "fig.set_size_inches(12, 10)\n",
    "axList = ax.flatten()\n",
    "axList[-1].axis('off')\n",
    "for ax, label in zip(axList[:-1], labels):\n",
    "    sns.heatmap(conf_matrix[label], ax=ax, fmt='d', annot=True, cmap=['magenta', 'green', 'orange', 'red', 'cyan', 'purple'])\n",
    "    ax.set(title=label)\n",
    "plt.show()"
   ]
  }
 ],
 "metadata": {
  "kernelspec": {
   "display_name": "Python 3",
   "language": "python",
   "name": "python3"
  },
  "language_info": {
   "codemirror_mode": {
    "name": "ipython",
    "version": 3
   },
   "file_extension": ".py",
   "mimetype": "text/x-python",
   "name": "python",
   "nbconvert_exporter": "python",
   "pygments_lexer": "ipython3",
   "version": "3.7.6"
  }
 },
 "nbformat": 4,
 "nbformat_minor": 4
}
